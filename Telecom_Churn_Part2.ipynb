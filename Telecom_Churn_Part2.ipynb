{
 "cells": [
  {
   "cell_type": "markdown",
   "metadata": {},
   "source": [
    "## PART II - Interpretation Model:"
   ]
  },
  {
   "cell_type": "code",
   "execution_count": null,
   "metadata": {},
   "outputs": [],
   "source": [
    "# Create the parameter grid based on the results of random search \n",
    "param_grid = {\n",
    "    'max_depth': [8,10,12],\n",
    "    'min_samples_leaf': range(100, 400, 200),\n",
    "    'min_samples_split': range(200, 500, 200),\n",
    "    'n_estimators': [100,200, 300], \n",
    "    'max_features': [12, 15, 20]\n",
    "}\n",
    "# Create a based model\n",
    "rf = RandomForestClassifier()\n",
    "# Instantiate the grid search model\n",
    "grid_search = GridSearchCV(estimator = rf, param_grid = param_grid, \n",
    "                          cv = 3, n_jobs = 4,verbose = 1)"
   ]
  },
  {
   "cell_type": "code",
   "execution_count": null,
   "metadata": {},
   "outputs": [],
   "source": [
    "# Fit the grid search to the data\n",
    "grid_search.fit(X_train, y_train)"
   ]
  },
  {
   "cell_type": "code",
   "execution_count": null,
   "metadata": {},
   "outputs": [],
   "source": [
    "# printing the optimal accuracy score and hyperparameters\n",
    "print('We can get accuracy of',grid_search.best_score_,'using',grid_search.best_params_)"
   ]
  },
  {
   "cell_type": "code",
   "execution_count": null,
   "metadata": {},
   "outputs": [],
   "source": [
    "rf = RandomForestClassifier(max_depth=12,\n",
    "                            max_features=20,\n",
    "                            min_samples_leaf=100,\n",
    "                            min_samples_split=200,\n",
    "                            n_estimators=300,\n",
    "                            random_state=10)"
   ]
  },
  {
   "cell_type": "code",
   "execution_count": null,
   "metadata": {},
   "outputs": [],
   "source": [
    "rf.fit(X_train,Y_train)"
   ]
  },
  {
   "cell_type": "code",
   "execution_count": null,
   "metadata": {},
   "outputs": [],
   "source": [
    "plt.figure(figsize=(15,40))\n",
    "feat_importances = pd.Series(rf.feature_importances_, index=X.columns)\n",
    "feat_importances.nlargest(len(X.columns)).sort_values().plot(kind='barh', align='center')"
   ]
  },
  {
   "cell_type": "markdown",
   "metadata": {},
   "source": [
    "Some of the top main predictiors of churn are the monthly KPI features for the action phase (3rd month August).\n",
    "\n",
    "the graph above suggest that the top 25 features ranked in order of importance as produced by our RandomForest implementation are the features that belong to month 8 i.e., the action month. Hence, it is clear that what happens in the action phase has a direct impact on the customer churn of high value customers. Specifically, these features are as follows:\n",
    "1. total_ic_mou_8 -- Total incoming minutes of usage in month 8\n",
    "2. loc_ic_mou_8 -- local incoming minutes of usage in month 8\n",
    "3. loc_ic_t2m_mou_8 -- local incoming calls to another operator minutes of usage in month 8\n",
    "4. total_roam_mou_8 -- Total incoming+outgoing roaming minutes of usage in month 8\n",
    "5. Total_loc_mou_8 -- Total local minutes of usage in month 8\n",
    "6. roam_og_mou_8 -- outgoing roaming calls minutes of usage in month 8\n",
    "7. roam_ic_mou_8 -- incoming roaming calls minutes of usage in month 8\n",
    "8. total_rech_amt_8 -- total recharge amount in month 8\n",
    "9. loc_ic_t2t_mou_8 -- local incoming calls from same operator minutes of usage in month 8\n",
    "10. arpu_8 -- average revenue per user in month 8\n",
    "11. max_rech_amt_8 -- maximum recharge amount in month 8\n",
    "12. last_day_rch_amt_8 -- last (most recent) recharge amount in month 8\n",
    "13. av_rech_amt_data_8 -- average recharge amount for mobile data in month 8\n",
    "14. loc_og_mou_8 -- local outgoing calls minutes of usage in month 8\n",
    "15. loc_og_t2m_mou_8 -- local outgoing calls minutes of usage to other operator mobile in month 8\n",
    "16. count_rech_2g_8 -- Number of 2g data recharge in month 8\n",
    "17. total_og_t2t_mou_8 -- total outgoing within same operator minutes of usage in month 8\n",
    "18. total_rech_num_8 -- total number of recharges done in the month 8\n",
    "19. og_to_ic_mou_8  --outgoing/incoming minutes of usage\n",
    "20. vol_2g_mb_8 -- Mobile internet usage volume (in MB) , 2G network in month 8\n",
    "21. spl_og_mou_7 -- special calls outgoing usage in month 7\n",
    "22. roam_ic_mou_7 -- roaming incoming calls minutes of usage in month 7\n",
    "23. std_ic_mou_8 --std caling(outside circle) incoming calls minutes of usage in month 8\n",
    "24. vol_3g_mb_8 -- Mobile internet usage ,3g network in month 8\n",
    "25. Total_roam_mou_7 -- total roaming minutes of usage in month 7"
   ]
  },
  {
   "cell_type": "markdown",
   "metadata": {},
   "source": [
    "Local calls Mou's be it incoming or outgoing have a very important role for churn predictions. Reduction in these KPI's forms a clear indicator of churn.\n",
    "\n",
    "Overall, drop in any of these indicator KPI is a signal that the customer is not actively engaging in the services offered by the Network operator and thus may choose to churn in the near future.\n",
    "\n",
    "\n",
    "#### Recommendations to Business:\n",
    "* Telecom company needs to pay attention to the roaming rates. They need to provide good offers to the customers who are using services from a roaming zone.(Churners show higher roaming usage than non-churners.)\n",
    "* The company needs to focus on the STD and ISD rates. Perhaps, the rates are too high. Provide them with some kind of STD and ISD packages.\n",
    "* The other key factor is if the recharge amount shows a dip in the action phase is sign of churn\n",
    "* Age on network is also a key indicator for identifying the churn, if aon is less than 500 days and their usage is reduce then the customer is going to be churned\n",
    "* The usage of mobile data has also reduced when compared with 7th month. So, data usage & amount can also be the other features for understanding the churn behavior"
   ]
  },
  {
   "cell_type": "code",
   "execution_count": null,
   "metadata": {},
   "outputs": [],
   "source": []
  }
 ],
 "metadata": {
  "kernelspec": {
   "display_name": "Python 3",
   "language": "python",
   "name": "python3"
  },
  "language_info": {
   "codemirror_mode": {
    "name": "ipython",
    "version": 3
   },
   "file_extension": ".py",
   "mimetype": "text/x-python",
   "name": "python",
   "nbconvert_exporter": "python",
   "pygments_lexer": "ipython3",
   "version": "3.8.3"
  }
 },
 "nbformat": 4,
 "nbformat_minor": 4
}
